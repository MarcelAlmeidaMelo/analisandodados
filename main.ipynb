{
 "cells": [
  {
   "cell_type": "markdown",
   "metadata": {},
   "source": [
    "# Python Insights - Analisando Dados com Python\n",
    "\n",
    "### Case - Cancelamento de Clientes\n",
    "\n",
    "Você foi contratado por uma empresa com mais de 800 mil clientes para um projeto de Dados. Recentemente a empresa percebeu que da sua base total de clientes, a maioria são clientes inativos, ou seja, que já cancelaram o serviço.\n",
    "\n",
    "Precisando melhorar seus resultados ela quer conseguir entender os principais motivos desses cancelamentos e quais as ações mais eficientes para reduzir esse número.\n",
    "\n",
    "Base de dados e arquivos: https://drive.google.com/drive/folders/1uDesZePdkhiraJmiyeZ-w5tfc8XsNYFZ?usp=drive_link"
   ]
  },
  {
   "cell_type": "code",
   "execution_count": null,
   "metadata": {},
   "outputs": [],
   "source": [
    "#1 - importar base de dados\n",
    "# pandas -> trabalhar com bancos de dados\n",
    "# plotly -> trabalhar com gráficos dinâmicos\n",
    "# !pip install pandas numpy openpyxl nbformat ipykernel plotly\n",
    "import pandas as pd\n",
    "\n",
    "#2 - visualizar base de dados\n",
    "    # Entender informações disponíveis\n",
    "    # procurar dados a serem tratados \n",
    "\n",
    "    #print (tabela) // display (tabela)\n",
    "\n",
    "tabela = pd.read_csv(\"cancelamentos.csv\")\n",
    "\n",
    "\n",
    "display (tabela)\n",
    "\n",
    "\n",
    "#3 -  fazer o tratamendo dos dados\n",
    "    #colunas inúteis(CustomerID)\n",
    "    #tabela = tabela.drop(columns=\"CustomerID\")\n",
    "    #tabela = tabela.dropna()\n",
    "\n",
    "\n",
    "tabela = tabela.drop(columns=\"CustomerID\")\n",
    "\n",
    "tabela = tabela.dropna()\n",
    "\n",
    "tabela = tabela.drop_duplicates()\n",
    "\n",
    "\n",
    "\n",
    "\n",
    "\n",
    "\n"
   ]
  },
  {
   "cell_type": "code",
   "execution_count": null,
   "metadata": {},
   "outputs": [],
   "source": [
    "display(tabela.info())"
   ]
  },
  {
   "cell_type": "code",
   "execution_count": null,
   "metadata": {},
   "outputs": [],
   "source": [
    "#4 - análise dos cancelamentos\n",
    "\n",
    "display(tabela[\"cancelou\"].value_counts())\n",
    "\n",
    "# em percentual  (normalize= True)\n",
    "# .map(\"{:.1%}\".format) passar qualquer código de formatação (.1) = 1 casa decimal \n",
    "\n",
    "display(tabela[\"cancelou\"].value_counts(normalize=True))\n",
    "\n"
   ]
  },
  {
   "cell_type": "code",
   "execution_count": null,
   "metadata": {},
   "outputs": [],
   "source": [
    "#tentando selecionar colunas duracao_contrato e cancelou  relacionando com suas respectivas porcentagens \n",
    "\n",
    "display(tabela[\"duracao_contrato\"].value_counts(normalize=True),tabela[\"cancelou\"].value_counts(normalize=True))\n",
    "\n"
   ]
  },
  {
   "cell_type": "code",
   "execution_count": null,
   "metadata": {},
   "outputs": [],
   "source": [
    "#5 - análise das causas de cancelamento  (como as colulas impactam no cancelamento)\n",
    "\n",
    "import plotly.express as px\n",
    "\n",
    " #5.1 criar o grafico\n",
    "\n",
    "for coluna in tabela.columns:\n",
    "\n",
    "    grafico = px.histogram(tabela, x = coluna, color = \"cancelou\", text_auto=True)\n",
    "\n",
    "    grafico.show()\n"
   ]
  },
  {
   "cell_type": "code",
   "execution_count": null,
   "metadata": {},
   "outputs": [],
   "source": [
    "#import nbformat, pandas, numpy, ipykernel, plotly, openpyxl\n",
    "# !pip install pandas numpy openpyxl nbformat ipykernel plotly print ()\n",
    "#print (nbformat.__version__,pandas.__version__,numpy.__version__,ipykernel.__version__,plotly.__version__, openpyxl.__version__)\n",
    "\n",
    "# analise das causas \n",
    "# duracao_contrato\n",
    "# callcenter\n",
    "#tempo de atraso\n",
    "\n",
    "tabela = tabela [tabela[\"dias_atraso\"] <=20 ]\n",
    "\n",
    "tabela = tabela [tabela[\"duracao_contrato\"] != \"Monthly\"]\n",
    "\n",
    "tabela = tabela [tabela[\"ligacoes_callcenter\"] <= 4]\n",
    "\n",
    "porcentagem_cancelamento = tabela[\"cancelou\"].value_counts(normalize= True)\n",
    "\n",
    "porcentagem_formatada = porcentagem_cancelamento.apply(lambda x: \"{:.1f}\".format(x))\n",
    "\n",
    "\n",
    "display(tabela[\"cancelou\"].value_counts(normalize=True))\n",
    "\n",
    "display(porcentagem_formatada)\n"
   ]
  }
 ],
 "metadata": {
  "kernelspec": {
   "display_name": "Python 3",
   "language": "python",
   "name": "python3"
  },
  "language_info": {
   "codemirror_mode": {
    "name": "ipython",
    "version": 3
   },
   "file_extension": ".py",
   "mimetype": "text/x-python",
   "name": "python",
   "nbconvert_exporter": "python",
   "pygments_lexer": "ipython3",
   "version": "3.12.1"
  },
  "orig_nbformat": 4
 },
 "nbformat": 4,
 "nbformat_minor": 2
}
